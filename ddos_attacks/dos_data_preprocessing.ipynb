{
  "metadata": {
    "kernelspec": {
      "language": "python",
      "display_name": "Python 3",
      "name": "python3"
    },
    "language_info": {
      "name": "python",
      "version": "3.10.14",
      "mimetype": "text/x-python",
      "codemirror_mode": {
        "name": "ipython",
        "version": 3
      },
      "pygments_lexer": "ipython3",
      "nbconvert_exporter": "python",
      "file_extension": ".py"
    },
    "kaggle": {
      "accelerator": "none",
      "dataSources": [
        {
          "sourceId": 1530359,
          "sourceType": "datasetVersion",
          "datasetId": 902298
        },
        {
          "sourceId": 1988072,
          "sourceType": "datasetVersion",
          "datasetId": 1188578
        },
        {
          "sourceId": 2215934,
          "sourceType": "datasetVersion",
          "datasetId": 1330735
        }
      ],
      "dockerImageVersionId": 30786,
      "isInternetEnabled": true,
      "language": "python",
      "sourceType": "notebook",
      "isGpuEnabled": false
    },
    "colab": {
      "provenance": []
    }
  },
  "nbformat_minor": 0,
  "nbformat": 4,
  "cells": [
    {
      "cell_type": "code",
      "source": [
        "# This Python 3 environment comes with many helpful analytics libraries installed\n",
        "# It is defined by the kaggle/python Docker image: https://github.com/kaggle/docker-python\n",
        "# For example, here's several helpful packages to load\n",
        "\n",
        "import numpy as np # linear algebra\n",
        "import pandas as pd # data processing, CSV file I/O (e.g. pd.read_csv)\n",
        "\n",
        "# Input data files are available in the read-only \"../input/\" directory\n",
        "# For example, running this (by clicking run or pressing Shift+Enter) will list all files under the input directory\n",
        "\n",
        "import os\n",
        "for dirname, _, filenames in os.walk('/kaggle/input'):\n",
        "    for filename in filenames:\n",
        "        print(os.path.join(dirname, filename))\n",
        "\n",
        "# You can write up to 20GB to the current directory (/kaggle/working/) that gets preserved as output when you create a version using \"Save & Run All\"\n",
        "# You can also write temporary files to /kaggle/temp/, but they won't be saved outside of the current session"
      ],
      "metadata": {
        "_uuid": "8f2839f25d086af736a60e9eeb907d3b93b6e0e5",
        "_cell_guid": "b1076dfc-b9ad-4769-8c92-a6c4dae69d19",
        "trusted": true,
        "id": "_jXPs3cWdc_-"
      },
      "execution_count": null,
      "outputs": []
    },
    {
      "cell_type": "code",
      "source": [
        "import pandas as pd\n",
        "import numpy as np\n",
        "import matplotlib.pylab as plt\n",
        "import matplotlib.pyplot as plt\n",
        "import seaborn as sns"
      ],
      "metadata": {
        "trusted": true,
        "id": "D8-LgpY4ddAB"
      },
      "execution_count": null,
      "outputs": []
    },
    {
      "cell_type": "code",
      "source": [
        "features = ['Bwd IAT Std', 'ACK Flag Cnt', 'Bwd Seg Size Avg', 'Bwd Pkts/s', 'Subflow Fwd Byts', 'Bwd Header Len', 'Idle Mean', 'Subflow Fwd Pkts',\n",
        "            'TotLen Bwd Pkts', 'Pkt Len Std', 'Fwd IAT Std', 'Fwd Pkt Len Max', 'Fwd Pkt Len Std', 'Pkt Len Var', 'Bwd IAT Tot', 'Init Bwd Win Byts',\n",
        "            'Bwd Pkt Len Mean', 'Tot Bwd Pkts', 'Fwd IAT Tot', 'Fwd IAT Mean', 'Bwd IAT Min', 'Subflow Bwd Pkts', 'Tot Fwd Pkts', 'Bwd IAT Mean', 'Fwd IAT Max',\n",
        "            'Fwd IAT Min', 'Bwd Pkt Len Std', 'Fwd Act Data Pkts', 'Flow IAT Min', 'Bwd Pkt Len Max', 'Flow IAT Std', 'Subflow Bwd Byts', 'Flow IAT Mean', 'Flow IAT Max',\n",
        "            'Dst Port', 'Flow Duration', 'Bwd IAT Max', 'Fwd Header Len', 'Init Fwd Win Byts', 'Fwd Seg Size Min','Label']"
      ],
      "metadata": {
        "trusted": true,
        "id": "ltk4tyCHddAC"
      },
      "execution_count": null,
      "outputs": []
    },
    {
      "cell_type": "code",
      "source": [
        "d10 = pd.read_csv('/kaggle/input/ids-intrusion-csv/02-16-2018.csv')\n",
        "d20 = pd.read_csv('/kaggle/input/ids-intrusion-csv/02-21-2018.csv')\n",
        "d30 = pd.read_csv('/kaggle/input/cicids-2019-dataset/DrDoS_NTP_data_data_5_per.csv')"
      ],
      "metadata": {
        "trusted": true,
        "id": "nJVtuAAdddAC"
      },
      "execution_count": null,
      "outputs": []
    },
    {
      "cell_type": "code",
      "source": [
        "d10['Label'].value_counts()"
      ],
      "metadata": {
        "trusted": true,
        "id": "BSYA-f1hddAD"
      },
      "execution_count": null,
      "outputs": []
    },
    {
      "cell_type": "code",
      "source": [
        "d20['Label'].value_counts()"
      ],
      "metadata": {
        "trusted": true,
        "id": "eKOnYJJBddAD"
      },
      "execution_count": null,
      "outputs": []
    },
    {
      "cell_type": "code",
      "source": [
        "d10.info()"
      ],
      "metadata": {
        "trusted": true,
        "id": "8BIWo4fDddAE"
      },
      "execution_count": null,
      "outputs": []
    },
    {
      "cell_type": "code",
      "source": [
        "d20.info()"
      ],
      "metadata": {
        "trusted": true,
        "id": "ayR6IOBZddAE"
      },
      "execution_count": null,
      "outputs": []
    },
    {
      "cell_type": "code",
      "source": [
        "d30.info()"
      ],
      "metadata": {
        "trusted": true,
        "id": "TDBnKcShddAE"
      },
      "execution_count": null,
      "outputs": []
    },
    {
      "cell_type": "code",
      "source": [
        "d30.drop(columns=[' Inbound','SimillarHTTP',' Fwd Header Length.1','Unnamed: 0','Flow ID', ' Source IP', ' Source Port', ' Destination IP'], inplace=True)"
      ],
      "metadata": {
        "trusted": true,
        "id": "ZQ9w5QTKddAF"
      },
      "execution_count": null,
      "outputs": []
    },
    {
      "cell_type": "code",
      "source": [
        "d30.columns = d10.columns.values\n",
        "d30[\"Label\"].value_counts()"
      ],
      "metadata": {
        "trusted": true,
        "id": "S0TP-6OjddAF"
      },
      "execution_count": null,
      "outputs": []
    },
    {
      "cell_type": "code",
      "source": [
        "c = ['Dst Port', 'Protocol', 'Flow Duration', 'Tot Fwd Pkts', 'Tot Bwd Pkts', 'TotLen Fwd Pkts', 'Fwd Pkt Len Max',\n",
        "     'Fwd Pkt Len Min', 'Bwd Pkt Len Max', 'Fwd PSH Flags', 'Bwd PSH Flags', 'Fwd URG Flags', 'Bwd URG Flags',\n",
        "     'Fwd Header Len', 'Bwd Header Len', 'Bwd Pkt Len Min', 'Pkt Len Min', 'Pkt Len Max', 'FIN Flag Cnt',\n",
        "     'SYN Flag Cnt', 'RST Flag Cnt', 'PSH Flag Cnt', 'ACK Flag Cnt', 'URG Flag Cnt', 'CWE Flag Count',\n",
        "     'ECE Flag Cnt', 'Down/Up Ratio', 'Fwd Byts/b Avg', 'Fwd Pkts/b Avg', 'Fwd Blk Rate Avg', 'Bwd Byts/b Avg',\n",
        "     'Bwd Pkts/b Avg', 'Bwd Blk Rate Avg', 'Subflow Fwd Pkts', 'Subflow Fwd Byts', 'Subflow Bwd Pkts',\n",
        "     'Subflow Bwd Byts', 'Init Fwd Win Byts', 'Init Bwd Win Byts', 'Fwd Act Data Pkts', 'Fwd Seg Size Min']\n",
        "\n",
        "for col in c:\n",
        "    d10[col] = pd.to_numeric(d10[col], errors='coerce')\n",
        "\n",
        "d10 = d10.dropna()\n",
        "\n",
        "d10[c] = d10[c].astype('int64')"
      ],
      "metadata": {
        "trusted": true,
        "id": "tPVKBF0HddAF"
      },
      "execution_count": null,
      "outputs": []
    },
    {
      "cell_type": "code",
      "source": [
        "c_ = ['TotLen Bwd Pkts', 'Fwd Pkt Len Mean', 'Fwd Pkt Len Std', 'Bwd Pkt Len Mean', 'Bwd Pkt Len Std',\n",
        "      'Flow Byts/s', 'Flow Pkts/s', 'Flow IAT Mean', 'Flow IAT Std', 'Flow IAT Max', 'Flow IAT Min',\n",
        "      'Fwd IAT Tot', 'Fwd IAT Mean', 'Fwd IAT Std', 'Fwd IAT Max', 'Fwd IAT Min', 'Bwd IAT Tot',\n",
        "      'Bwd IAT Mean', 'Bwd IAT Std', 'Bwd IAT Max', 'Bwd IAT Min', 'Fwd Pkts/s', 'Bwd Pkts/s',\n",
        "      'Pkt Len Mean', 'Pkt Len Std', 'Pkt Len Var', 'Pkt Size Avg', 'Fwd Seg Size Avg', 'Bwd Seg Size Avg',\n",
        "      'Active Mean', 'Active Std', 'Active Max', 'Active Min', 'Idle Mean', 'Idle Std', 'Idle Max', 'Idle Min']\n",
        "\n",
        "for colu in c_:\n",
        "    d10[colu] = pd.to_numeric(d10[colu], errors='coerce')\n",
        "\n",
        "d10 = d10.dropna()\n",
        "d10[c_] = d10[c_].astype('float64')"
      ],
      "metadata": {
        "trusted": true,
        "id": "kkYlRqSdddAF"
      },
      "execution_count": null,
      "outputs": []
    },
    {
      "cell_type": "code",
      "source": [
        "d10.info()"
      ],
      "metadata": {
        "trusted": true,
        "id": "Jbl0VnyIddAF"
      },
      "execution_count": null,
      "outputs": []
    },
    {
      "cell_type": "code",
      "source": [
        "d10[\"Label\"].value_counts()"
      ],
      "metadata": {
        "trusted": true,
        "id": "WunSqr0PddAF"
      },
      "execution_count": null,
      "outputs": []
    },
    {
      "cell_type": "code",
      "source": [
        "d10.columns"
      ],
      "metadata": {
        "trusted": true,
        "id": "_h6CK3_3ddAF"
      },
      "execution_count": null,
      "outputs": []
    },
    {
      "cell_type": "code",
      "source": [
        "columns = ['Dst Port', 'Flow Duration', 'Tot Fwd Pkts', 'Tot Bwd Pkts',\n",
        "       'TotLen Fwd Pkts', 'TotLen Bwd Pkts', 'Fwd Pkt Len Max',\n",
        "       'Fwd Pkt Len Min', 'Fwd Pkt Len Mean', 'Fwd Pkt Len Std',\n",
        "       'Bwd Pkt Len Max', 'Bwd Pkt Len Min', 'Bwd Pkt Len Mean',\n",
        "       'Bwd Pkt Len Std', 'Flow Byts/s', 'Flow Pkts/s', 'Flow IAT Mean',\n",
        "       'Flow IAT Std', 'Flow IAT Max', 'Flow IAT Min', 'Fwd IAT Tot',\n",
        "       'Fwd IAT Mean', 'Fwd IAT Std', 'Fwd IAT Max', 'Fwd IAT Min',\n",
        "       'Bwd IAT Tot', 'Bwd IAT Mean', 'Bwd IAT Std', 'Bwd IAT Max',\n",
        "       'Bwd IAT Min', 'Fwd PSH Flags', 'Bwd PSH Flags', 'Fwd URG Flags',\n",
        "       'Bwd URG Flags', 'Fwd Header Len', 'Bwd Header Len', 'Fwd Pkts/s',\n",
        "       'Bwd Pkts/s', 'Pkt Len Min', 'Pkt Len Max', 'Pkt Len Mean',\n",
        "       'Pkt Len Std', 'Pkt Len Var', 'FIN Flag Cnt', 'SYN Flag Cnt',\n",
        "       'RST Flag Cnt', 'PSH Flag Cnt', 'ACK Flag Cnt', 'URG Flag Cnt',\n",
        "       'CWE Flag Count', 'ECE Flag Cnt', 'Down/Up Ratio', 'Pkt Size Avg',\n",
        "       'Fwd Seg Size Avg', 'Bwd Seg Size Avg', 'Fwd Byts/b Avg',\n",
        "       'Fwd Pkts/b Avg', 'Fwd Blk Rate Avg', 'Bwd Byts/b Avg',\n",
        "       'Bwd Pkts/b Avg', 'Bwd Blk Rate Avg', 'Subflow Fwd Pkts',\n",
        "       'Subflow Fwd Byts', 'Subflow Bwd Pkts', 'Subflow Bwd Byts',\n",
        "       'Init Fwd Win Byts', 'Init Bwd Win Byts', 'Fwd Act Data Pkts',\n",
        "       'Fwd Seg Size Min', 'Active Mean', 'Active Std', 'Active Max',\n",
        "       'Active Min', 'Idle Mean', 'Idle Std', 'Idle Max', 'Idle Min']"
      ],
      "metadata": {
        "trusted": true,
        "id": "MRgUDLwpddAG"
      },
      "execution_count": null,
      "outputs": []
    },
    {
      "cell_type": "code",
      "source": [
        "d10[columns] = d10[columns].apply(pd.to_numeric,errors=\"coerce\")\n",
        "d10.replace([np.inf, -np.inf], np.nan, inplace=True)"
      ],
      "metadata": {
        "trusted": true,
        "id": "d8kyFJEQddAG"
      },
      "execution_count": null,
      "outputs": []
    },
    {
      "cell_type": "code",
      "source": [
        "benign_label = d10[d10[\"Label\"] == \"Benign\"].reset_index(drop=True)\n",
        "dos_label = d10[d10[\"Label\"] == \"DoS attacks-Hulk\"].reset_index(drop=True)\n",
        "\n",
        "benign_label = benign_label.sample(frac=1, random_state= 42).reset_index(drop=True)\n",
        "benign_label_new = benign_label.head(298500).reset_index(drop=True)\n",
        "last = benign_label.drop(benign_label_new.index).sample(65729)\n",
        "\n",
        "dos_label  = dos_label.sample(frac=1, random_state=40).reset_index(drop=True)\n",
        "dos_label_new = dos_label.head(157500).reset_index(drop=True)\n",
        "\n",
        "data= pd.concat([benign_label_new, dos_label_new], axis=0).reset_index(drop=True)"
      ],
      "metadata": {
        "trusted": true,
        "id": "nTFOkTpBddAG"
      },
      "execution_count": null,
      "outputs": []
    },
    {
      "cell_type": "code",
      "source": [
        "data.shape"
      ],
      "metadata": {
        "trusted": true,
        "id": "lsCMttZdddAG"
      },
      "execution_count": null,
      "outputs": []
    },
    {
      "cell_type": "code",
      "source": [
        "d20[columns] = d20[columns].apply(pd.to_numeric, errors='coerce')\n",
        "d20.replace([np.inf, -np.inf], np.nan, inplace=True)\n",
        "d20.dropna(inplace=True)\n",
        "\n",
        "benign_label2= d20[d20['Label'] == 'Benign'].reset_index(drop=True)\n",
        "dos_label2 = d20[d20['Label'] == 'DDOS attack-HOIC'].reset_index(drop=True)\n",
        "\n",
        "benign_label2= benign_label2.sample(frac=1, random_state=40).reset_index(drop=True)\n",
        "benign_label2_new = benign_label2.head(185500).reset_index(drop=True)\n",
        "\n",
        "dos_label2  = dos_label2.sample(frac=1, random_state=40).reset_index(drop=True)\n",
        "dos_label2_new = dos_label2.head(164500).reset_index(drop=True)\n",
        "\n",
        "data2= pd.concat([benign_label2, dos_label2_new], axis=0).reset_index(drop=True)"
      ],
      "metadata": {
        "trusted": true,
        "id": "06b21qY7ddAG"
      },
      "execution_count": null,
      "outputs": []
    },
    {
      "cell_type": "code",
      "source": [
        "data2.shape"
      ],
      "metadata": {
        "trusted": true,
        "id": "D5i_LfWjddAG"
      },
      "execution_count": null,
      "outputs": []
    },
    {
      "cell_type": "code",
      "source": [
        "d30[columns] = d30[columns].apply(pd.to_numeric, errors='coerce')\n",
        "d30.replace([np.inf, -np.inf], np.nan, inplace=True)\n",
        "d30.dropna(inplace=True)\n",
        "\n",
        "d30.replace(to_replace=['BENIGN'], value = 'Benign', inplace=True)\n",
        "benign_label3= d30[d30['Label'] == 'Benign'].reset_index(drop=True)\n",
        "dos_label3 = d30[d30['Label'] == 'DrDoS_NTP'].reset_index(drop=True)\n",
        "\n",
        "benign_label3 = benign_label3.sample(frac=1, random_state=40).reset_index(drop=True)\n",
        "benign_label3_new = benign_label3.head(14635).reset_index(drop=True)\n",
        "\n",
        "dos_label3 = dos_label3.sample(frac=1, random_state=40).reset_index(drop=True)\n",
        "dos_label3_new =dos_label3.head(120000).reset_index(drop=True)\n",
        "\n",
        "data3= pd.concat([benign_label3_new, dos_label3_new,last], axis=0).reset_index(drop=True)"
      ],
      "metadata": {
        "trusted": true,
        "id": "BZV5uAPRddAG"
      },
      "execution_count": null,
      "outputs": []
    },
    {
      "cell_type": "code",
      "source": [
        "data3.shape"
      ],
      "metadata": {
        "trusted": true,
        "id": "iRYJaaISddAG"
      },
      "execution_count": null,
      "outputs": []
    },
    {
      "cell_type": "code",
      "source": [
        "last.shape"
      ],
      "metadata": {
        "trusted": true,
        "id": "pj2R80vCddAG"
      },
      "execution_count": null,
      "outputs": []
    },
    {
      "cell_type": "code",
      "source": [
        "dos_label3_new.shape"
      ],
      "metadata": {
        "trusted": true,
        "id": "W2c-THTOddAG"
      },
      "execution_count": null,
      "outputs": []
    },
    {
      "cell_type": "code",
      "source": [
        "benign_label3.shape"
      ],
      "metadata": {
        "trusted": true,
        "id": "wbzJfWtUddAH"
      },
      "execution_count": null,
      "outputs": []
    },
    {
      "cell_type": "code",
      "source": [
        "data[columns] = data[columns].apply(pd.to_numeric, errors=\"coerce\")\n",
        "data.replace([np.inf,-np.inf] ,np.nan, inplace = True)\n",
        "data.dropna(inplace=True)\n",
        "data.isnull().values.any()"
      ],
      "metadata": {
        "trusted": true,
        "id": "Qw2B7qf9ddAH"
      },
      "execution_count": null,
      "outputs": []
    },
    {
      "cell_type": "code",
      "source": [
        "data2[columns] = data2[columns].apply(pd.to_numeric, errors='coerce')\n",
        "data2.replace([np.inf, -np.inf], np.nan, inplace=True)\n",
        "data2.dropna(inplace=True)\n",
        "data2.isnull().values.any()"
      ],
      "metadata": {
        "trusted": true,
        "id": "MUOddZ0cddAH"
      },
      "execution_count": null,
      "outputs": []
    },
    {
      "cell_type": "code",
      "source": [
        "data3[columns] = data3[columns].apply(pd.to_numeric, errors='coerce')\n",
        "data3.replace([np.inf, -np.inf], np.nan, inplace=True)\n",
        "data3.dropna(inplace=True)\n",
        "data3.isnull().values.any()"
      ],
      "metadata": {
        "trusted": true,
        "id": "24t2afHmddAH"
      },
      "execution_count": null,
      "outputs": []
    },
    {
      "cell_type": "code",
      "source": [
        "data1 = data[features]\n",
        "data2 = data2[features]\n",
        "data3 = data3[features]"
      ],
      "metadata": {
        "trusted": true,
        "id": "6WFrMTE1ddAH"
      },
      "execution_count": null,
      "outputs": []
    },
    {
      "cell_type": "code",
      "source": [
        "data1.columns"
      ],
      "metadata": {
        "trusted": true,
        "id": "eQrARluFddAH"
      },
      "execution_count": null,
      "outputs": []
    },
    {
      "cell_type": "code",
      "source": [
        "newcolumns =['Bwd IAT Std', 'ACK Flag Cnt', 'Bwd Seg Size Avg', 'Bwd Pkts/s',\n",
        "       'Subflow Fwd Byts', 'Bwd Header Len', 'Idle Mean', 'Subflow Fwd Pkts',\n",
        "       'TotLen Bwd Pkts', 'Pkt Len Std', 'Fwd IAT Std', 'Fwd Pkt Len Max',\n",
        "       'Fwd Pkt Len Std', 'Pkt Len Var', 'Bwd IAT Tot', 'Init Bwd Win Byts',\n",
        "       'Bwd Pkt Len Mean', 'Tot Bwd Pkts', 'Fwd IAT Tot', 'Fwd IAT Mean',\n",
        "       'Bwd IAT Min', 'Subflow Bwd Pkts', 'Tot Fwd Pkts', 'Bwd IAT Mean',\n",
        "       'Fwd IAT Max', 'Fwd IAT Min', 'Bwd Pkt Len Std', 'Fwd Act Data Pkts',\n",
        "       'Flow IAT Min', 'Bwd Pkt Len Max', 'Flow IAT Std', 'Subflow Bwd Byts',\n",
        "       'Flow IAT Mean', 'Flow IAT Max', 'Dst Port', 'Flow Duration',\n",
        "       'Bwd IAT Max', 'Fwd Header Len', 'Init Fwd Win Byts',\n",
        "       'Fwd Seg Size Min']"
      ],
      "metadata": {
        "trusted": true,
        "id": "J1JxZREYddAH"
      },
      "execution_count": null,
      "outputs": []
    },
    {
      "cell_type": "code",
      "source": [
        "summed = np.sum(data1[newcolumns])\n",
        "summed[summed == 0]"
      ],
      "metadata": {
        "trusted": true,
        "id": "yCBFdGcbddAH"
      },
      "execution_count": null,
      "outputs": []
    },
    {
      "cell_type": "code",
      "source": [
        "summed = np.sum(data2[newcolumns])\n",
        "summed[summed == 0]"
      ],
      "metadata": {
        "trusted": true,
        "id": "c9DQOZqeddAH"
      },
      "execution_count": null,
      "outputs": []
    },
    {
      "cell_type": "code",
      "source": [
        "summed = np.sum(data3[newcolumns])\n",
        "summed[summed == 0]"
      ],
      "metadata": {
        "trusted": true,
        "id": "VOLdvXauddAI"
      },
      "execution_count": null,
      "outputs": []
    },
    {
      "cell_type": "code",
      "source": [
        "fig, axs = plt.subplots(1, 2, figsize=(14, 7))\n",
        "\n",
        "axs[0] = data1.Label.value_counts().plot(kind='bar', ax=axs[0])\n",
        "for p in axs[0].patches:\n",
        "    axs[0].annotate(str(p.get_height()), (p.get_x() * 1.005, p.get_height() * 1.005))\n",
        "\n",
        "axs[1] = data1.Label.value_counts().plot(kind='pie', ax=axs[1], autopct='%1.1f%%')\n",
        "\n",
        "plt.show()"
      ],
      "metadata": {
        "trusted": true,
        "id": "nOOxXKycddAI"
      },
      "execution_count": null,
      "outputs": []
    },
    {
      "cell_type": "code",
      "source": [
        "data1.shape"
      ],
      "metadata": {
        "trusted": true,
        "id": "GQVsftjpddAI"
      },
      "execution_count": null,
      "outputs": []
    },
    {
      "cell_type": "code",
      "source": [
        "fig, axs = plt.subplots(1, 2, figsize=(14, 7))\n",
        "\n",
        "axs[0] = data2.Label.value_counts().plot(kind='bar', ax=axs[0])\n",
        "for p in axs[0].patches:\n",
        "    axs[0].annotate(str(p.get_height()), (p.get_x() * 1.005, p.get_height() * 1.005))\n",
        "\n",
        "axs[1] = data2.Label.value_counts().plot(kind='pie', ax=axs[1], autopct='%1.1f%%')\n",
        "\n",
        "plt.show()"
      ],
      "metadata": {
        "trusted": true,
        "id": "UHADGKBfddAI"
      },
      "execution_count": null,
      "outputs": []
    },
    {
      "cell_type": "code",
      "source": [
        "data2.shape"
      ],
      "metadata": {
        "trusted": true,
        "id": "kf3B-zJxddAL"
      },
      "execution_count": null,
      "outputs": []
    },
    {
      "cell_type": "code",
      "source": [
        "fig, axs = plt.subplots(1, 2, figsize=(14, 7))\n",
        "\n",
        "axs[0] = data3.Label.value_counts().plot(kind='bar', ax=axs[0])\n",
        "for p in axs[0].patches:\n",
        "    axs[0].annotate(str(p.get_height()), (p.get_x() * 1.005, p.get_height() * 1.005))\n",
        "\n",
        "axs[1] = data3.Label.value_counts().plot(kind='pie', ax=axs[1], autopct='%1.1f%%')\n",
        "\n",
        "plt.show()"
      ],
      "metadata": {
        "trusted": true,
        "id": "fh_ToxonddAL"
      },
      "execution_count": null,
      "outputs": []
    },
    {
      "cell_type": "code",
      "source": [
        "data3.shape"
      ],
      "metadata": {
        "trusted": true,
        "id": "x4EGe7TEddAM"
      },
      "execution_count": null,
      "outputs": []
    },
    {
      "cell_type": "code",
      "source": [
        "datasets = {'data1': data1, 'data2': data2, 'data3': data3}\n",
        "\n",
        "counts = {name: len(datas) for name, datas in datasets.items()}\n",
        "\n",
        "counts = pd.Series(counts)\n",
        "\n",
        "fig, axs = plt.subplots(1, 2, figsize=(14, 7))\n",
        "\n",
        "axs[0] = counts.plot(kind='bar', ax=axs[0])\n",
        "for p in axs[0].patches:\n",
        "    axs[0].annotate(str(p.get_height()), (p.get_x() * 1.005, p.get_height() * 1.005))\n",
        "\n",
        "axs[1] = counts.plot(kind='pie', ax=axs[1], autopct='%1.1f%%')\n",
        "\n",
        "plt.show()"
      ],
      "metadata": {
        "trusted": true,
        "id": "lpKTAaTzddAM"
      },
      "execution_count": null,
      "outputs": []
    },
    {
      "cell_type": "code",
      "source": [
        "data1.to_csv('dosdata1.csv')\n",
        "data2.to_csv('dosdata2.csv')\n",
        "data3.to_csv('dosdata3.csv')"
      ],
      "metadata": {
        "trusted": true,
        "id": "mU5ZUjQlddAM"
      },
      "execution_count": null,
      "outputs": []
    },
    {
      "cell_type": "code",
      "source": [
        "fig, axs = plt.subplots(3, 2, figsize=(14, 21))\n",
        "\n",
        "datasets = [data1, data2, data3]\n",
        "\n",
        "for i, data in enumerate(datasets):\n",
        "    counts = data['Label'].value_counts()\n",
        "\n",
        "    axs[i, 0] = counts.plot(kind='bar', ax=axs[i, 0])\n",
        "    for p in axs[i, 0].patches:\n",
        "        axs[i, 0].annotate(str(p.get_height()), (p.get_x() * 1.005, p.get_height() * 1.005))\n",
        "\n",
        "    axs[i, 1] = counts.plot(kind='pie', ax=axs[i, 1], autopct='%1.1f%%')\n",
        "\n",
        "plt.tight_layout()\n",
        "plt.show()"
      ],
      "metadata": {
        "trusted": true,
        "id": "VePO7vR7ddAM"
      },
      "execution_count": null,
      "outputs": []
    }
  ]
}