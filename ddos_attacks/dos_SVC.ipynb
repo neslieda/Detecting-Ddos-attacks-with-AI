{
  "cells": [
    {
      "cell_type": "code",
      "execution_count": null,
      "metadata": {
        "id": "Y1F1eAiEOT4U"
      },
      "outputs": [],
      "source": [
        "import pandas as pd\n",
        "import numpy as np\n",
        "import seaborn as sns\n",
        "import matplotlib.pyplot as plt\n",
        "from sklearn import preprocessing\n",
        "from sklearn.preprocessing import MinMaxScaler\n",
        "from sklearn.preprocessing import StandardScaler\n",
        "from sklearn.model_selection import train_test_split\n",
        "from sklearn import metrics\n",
        "from sklearn.model_selection import cross_val_score\n",
        "from sklearn.metrics import accuracy_score,classification_report,confusion_matrix\n",
        "from sklearn.model_selection import StratifiedKFold, GridSearchCV\n",
        "from sklearn.metrics import roc_curve\n",
        "%matplotlib inline\n",
        "import warnings\n",
        "warnings.filterwarnings('ignore')"
      ]
    },
    {
      "cell_type": "code",
      "execution_count": null,
      "metadata": {
        "colab": {
          "base_uri": "https://localhost:8080/"
        },
        "id": "jyDp-5OXOVpL",
        "outputId": "60d3ec90-dfe5-4703-ae2a-8eee3df546bf"
      },
      "outputs": [
        {
          "name": "stdout",
          "output_type": "stream",
          "text": [
            "Mounted at /content/drive\n",
            "Benign: 0\n",
            "Anomaly: 1\n"
          ]
        }
      ],
      "source": [
        "from google.colab import drive\n",
        "drive.mount('/content/drive')\n",
        "data1=pd.read_csv('/content/drive/MyDrive/dosdata/data1.csv')\n",
        "data2=pd.read_csv('/content/drive/MyDrive/dosdata/data2.csv')\n",
        "data3=pd.read_csv('/content/drive/MyDrive/dosdata/data3.csv')\n",
        "\n",
        "train_data=pd.concat([data1,data2,data3]).reset_index(drop=True)\n",
        "\n",
        "train_data = train_data.drop(columns='Unnamed: 0')\n",
        "\n",
        "train_data[\"Label\"] = train_data[\"Label\"].replace([\"Benign\",\"Anomaly\"],[0,1])\n",
        "for label, index in zip(['Benign', 'Anomaly'], [0, 1]):\n",
        "    print(f\"{label}: {index}\")"
      ]
    },
    {
      "cell_type": "code",
      "execution_count": null,
      "metadata": {
        "colab": {
          "base_uri": "https://localhost:8080/"
        },
        "id": "nZuBwwneOVrs",
        "outputId": "7ffd0154-114c-4eb3-9b4d-65b803578650"
      },
      "outputs": [
        {
          "name": "stdout",
          "output_type": "stream",
          "text": [
            "Label\n",
            "0    1567950\n",
            "1    1000448\n",
            "Name: count, dtype: int64\n",
            "Counter({0: 1000448, 1: 1000448})\n"
          ]
        }
      ],
      "source": [
        "print(train_data[\"Label\"].value_counts())\n",
        "\n",
        "from imblearn.under_sampling import RandomUnderSampler\n",
        "from collections import Counter\n",
        "\n",
        "X = train_data.drop(\"Label\", axis=1)\n",
        "y = train_data[\"Label\"]\n",
        "\n",
        "undersample = RandomUnderSampler(sampling_strategy='majority')\n",
        "X, y = undersample.fit_resample(X, y)\n",
        "\n",
        "print(Counter(y))"
      ]
    },
    {
      "cell_type": "code",
      "execution_count": null,
      "metadata": {
        "colab": {
          "background_save": true
        },
        "id": "B4xm7UoZNWVe"
      },
      "outputs": [],
      "source": [
        "def optimize_svc(X, y, cv=3):\n",
        "    skf = StratifiedKFold(n_splits=cv, shuffle=True, random_state=42)\n",
        "\n",
        "    param_grid = {\n",
        "        'C': [0.1, 1],\n",
        "        'gamma': ['scale'],\n",
        "        'kernel': ['linear']\n",
        "    }\n",
        "\n",
        "    svc = SVC(random_state=42)\n",
        "\n",
        "    grid_search = GridSearchCV(\n",
        "        estimator=svc,\n",
        "        param_grid=param_grid,\n",
        "        cv=skf,\n",
        "        scoring='accuracy',\n",
        "        n_jobs=-1,\n",
        "        verbose=1\n",
        "    )\n",
        "\n",
        "    grid_search.fit(X, y)\n",
        "\n",
        "    print(\"Best Parameters:\", grid_search.best_params_)\n",
        "    print(\"Best Cross-Validation Score:\", grid_search.best_score_)\n",
        "\n",
        "    cv_results = pd.DataFrame(grid_search.cv_results_)\n",
        "    cv_results = cv_results[['params', 'mean_test_score', 'std_test_score']]\n",
        "    cv_results = cv_results.sort_values('mean_test_score', ascending=False).head()\n",
        "\n",
        "    return grid_search.best_estimator_, cv_results\n"
      ]
    },
    {
      "cell_type": "code",
      "execution_count": null,
      "metadata": {
        "id": "ELx1FkjWOMRM"
      },
      "outputs": [],
      "source": [
        "X_train, X_test, y_train, y_test = train_test_split(X, y, test_size=0.2, random_state=42)"
      ]
    },
    {
      "cell_type": "code",
      "execution_count": null,
      "metadata": {
        "colab": {
          "background_save": true,
          "base_uri": "https://localhost:8080/"
        },
        "id": "IpU6yTswOMTm",
        "outputId": "e9f33e17-705a-4191-851a-21d1cafe680d"
      },
      "outputs": [
        {
          "name": "stdout",
          "output_type": "stream",
          "text": [
            "Fitting 3 folds for each of 2 candidates, totalling 6 fits\n"
          ]
        }
      ],
      "source": [
        "best_model, cv_results = optimize_svc(X_train, y_train)"
      ]
    },
    {
      "cell_type": "code",
      "execution_count": null,
      "metadata": {
        "id": "nazgDQc5OMWR"
      },
      "outputs": [],
      "source": [
        "print(\"\\nTop 5 model performance:\")\n",
        "print(cv_results)"
      ]
    },
    {
      "cell_type": "code",
      "execution_count": null,
      "metadata": {
        "id": "ptrBnlFCOMZF"
      },
      "outputs": [],
      "source": [
        "y_pred = best_model.predict(X_test)\n",
        "print(\"\\nTest set performance metrics:\")\n",
        "print(classification_report(y_test, y_pred))"
      ]
    }
  ],
  "metadata": {
    "colab": {
      "provenance": []
    },
    "kernelspec": {
      "display_name": "Python 3",
      "name": "python3"
    },
    "language_info": {
      "name": "python"
    }
  },
  "nbformat": 4,
  "nbformat_minor": 0
}