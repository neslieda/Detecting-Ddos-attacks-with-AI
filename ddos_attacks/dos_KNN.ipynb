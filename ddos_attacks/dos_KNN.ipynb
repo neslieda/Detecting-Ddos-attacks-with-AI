{
  "nbformat": 4,
  "nbformat_minor": 0,
  "metadata": {
    "colab": {
      "provenance": []
    },
    "kernelspec": {
      "name": "python3",
      "display_name": "Python 3"
    },
    "language_info": {
      "name": "python"
    }
  },
  "cells": [
    {
      "cell_type": "code",
      "source": [
        "import pandas as pd\n",
        "import numpy as np\n",
        "import seaborn as sns\n",
        "import matplotlib.pyplot as plt\n",
        "from sklearn import preprocessing\n",
        "from sklearn.preprocessing import MinMaxScaler\n",
        "from sklearn.preprocessing import StandardScaler\n",
        "from sklearn.model_selection import train_test_split\n",
        "from sklearn import metrics\n",
        "from sklearn.model_selection import cross_val_score\n",
        "from sklearn.metrics import accuracy_score,classification_report,confusion_matrix\n",
        "from sklearn.model_selection import StratifiedKFold, GridSearchCV\n",
        "from sklearn.metrics import roc_curve\n",
        "%matplotlib inline\n",
        "import warnings\n",
        "warnings.filterwarnings('ignore')"
      ],
      "metadata": {
        "id": "W_5HE7uTM8gg"
      },
      "execution_count": null,
      "outputs": []
    },
    {
      "cell_type": "code",
      "source": [
        "from google.colab import drive\n",
        "drive.mount('/content/drive')\n",
        "data1=pd.read_csv('/content/drive/MyDrive/dosdata/data1.csv')\n",
        "data2=pd.read_csv('/content/drive/MyDrive/dosdata/data2.csv')\n",
        "data3=pd.read_csv('/content/drive/MyDrive/dosdata/data3.csv')\n",
        "\n",
        "train_data=pd.concat([data1,data2,data3]).reset_index(drop=True)\n",
        "\n",
        "train_data = train_data.drop(columns='Unnamed: 0')\n",
        "\n",
        "train_data[\"Label\"] = train_data[\"Label\"].replace([\"Benign\",\"Anomaly\"],[0,1])\n",
        "for label, index in zip(['Benign', 'Anomaly'], [0, 1]):\n",
        "    print(f\"{label}: {index}\")"
      ],
      "metadata": {
        "id": "xUic6qW_M_qt"
      },
      "execution_count": null,
      "outputs": []
    },
    {
      "cell_type": "code",
      "source": [
        "print(train_data[\"Label\"].value_counts())\n",
        "\n",
        "from imblearn.under_sampling import RandomUnderSampler\n",
        "from collections import Counter\n",
        "\n",
        "X = train_data.drop(\"Label\", axis=1)\n",
        "y = train_data[\"Label\"]\n",
        "\n",
        "undersample = RandomUnderSampler(sampling_strategy='majority')\n",
        "X, y = undersample.fit_resample(X, y)\n",
        "\n",
        "print(Counter(y))"
      ],
      "metadata": {
        "id": "FXVYUL43M_tW"
      },
      "execution_count": null,
      "outputs": []
    },
    {
      "cell_type": "code",
      "execution_count": null,
      "metadata": {
        "id": "aD5lkzpiMego"
      },
      "outputs": [],
      "source": [
        "from sklearn.neighbors import KNeighborsClassifier\n",
        "from sklearn.model_selection import StratifiedKFold, GridSearchCV\n",
        "from sklearn.metrics import accuracy_score, classification_report\n",
        "import pandas as pd\n",
        "\n",
        "def optimize_knn(X, y, cv=5):\n",
        "\n",
        "    skf = StratifiedKFold(n_splits=cv, shuffle=True, random_state=42)\n",
        "\n",
        "    param_grid = {\n",
        "        'n_neighbors': [3, 5, 7, 9, 11],\n",
        "        'weights': ['uniform', 'distance'],\n",
        "        'metric': ['euclidean', 'manhattan', 'minkowski']\n",
        "    }\n",
        "\n",
        "    knn = KNeighborsClassifier()\n",
        "\n",
        "    grid_search = GridSearchCV(\n",
        "        estimator=knn,\n",
        "        param_grid=param_grid,\n",
        "        cv=skf,\n",
        "        scoring='accuracy',\n",
        "        n_jobs=-1,\n",
        "        verbose=1\n",
        "    )\n",
        "\n",
        "    grid_search.fit(X, y)\n",
        "\n",
        "    print(\"Best Parameters:\", grid_search.best_params_)\n",
        "    print(\"Best Cross-Validation Score:\", grid_search.best_score_)\n",
        "\n",
        "    cv_results = pd.DataFrame(grid_search.cv_results_)\n",
        "    cv_results = cv_results[['params', 'mean_test_score', 'std_test_score']]\n",
        "    cv_results = cv_results.sort_values('mean_test_score', ascending=False).head()\n",
        "\n",
        "    return grid_search.best_estimator_, cv_results"
      ]
    },
    {
      "cell_type": "code",
      "source": [
        "X_train, X_test, y_train, y_test = train_test_split(X, y, test_size=0.2, random_state=42)"
      ],
      "metadata": {
        "id": "SVgCDTVhMiZc"
      },
      "execution_count": null,
      "outputs": []
    },
    {
      "cell_type": "code",
      "source": [
        "best_model, cv_results = optimize_knn(X_train, y_train)"
      ],
      "metadata": {
        "id": "dJUS5kiZMibx"
      },
      "execution_count": null,
      "outputs": []
    },
    {
      "cell_type": "code",
      "source": [
        "print(\"\\nTop 5 model performance:\")\n",
        "print(cv_results)"
      ],
      "metadata": {
        "id": "PmRXJZo9Mie3"
      },
      "execution_count": null,
      "outputs": []
    },
    {
      "cell_type": "code",
      "source": [
        "y_pred = best_model.predict(X_test)\n",
        "print(\"\\nTest set performance metrics:\")\n",
        "print(classification_report(y_test, y_pred))"
      ],
      "metadata": {
        "id": "QKTdYrSnMnRt"
      },
      "execution_count": null,
      "outputs": []
    }
  ]
}